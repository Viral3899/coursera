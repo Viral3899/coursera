{
 "cells": [
  {
   "cell_type": "markdown",
   "id": "cff665a7",
   "metadata": {},
   "source": [
    "### Project"
   ]
  },
  {
   "cell_type": "markdown",
   "id": "e80e342e",
   "metadata": {},
   "source": [
    "#### Introduction"
   ]
  },
  {
   "cell_type": "markdown",
   "id": "d687e54e",
   "metadata": {},
   "source": [
    "#### \n",
    "python<br>\n",
    "r"
   ]
  },
  {
   "cell_type": "markdown",
   "id": "85b21084",
   "metadata": {},
   "source": [
    "<br>numpy<br>tensorflow<br>pytorch<br>\n",
    "pandas<br>sklearn<br>"
   ]
  },
  {
   "cell_type": "markdown",
   "id": "3a1ad2b9",
   "metadata": {},
   "source": [
    "| Category          | Tools                                               |\n",
    "|-------------------|-----------------------------------------------------|\n",
    "| Programming       | Python, R, Julia, Java, Scala                      |\n",
    "| Data Manipulation | Pandas, NumPy, dplyr, data.table                   |\n",
    "| Visualization     | Matplotlib, Seaborn, ggplot2, Plotly, Bokeh        |\n",
    "| Machine Learning  | Scikit-learn, TensorFlow, Keras, PyTorch, XGBoost |\n",
    "| Statistics        | SciPy, statsmodels, R's stats package               |\n",
    "| Big Data          | Apache Hadoop, Apache Spark, Apache Flink           |\n",
    "| Database          | SQL, MongoDB, PostgreSQL, MySQL                    |\n",
    "| Web Scraping      | BeautifulSoup, Scrapy                              |\n",
    "| Natural Language  | NLTK, SpaCy, Gensim                                 |\n",
    "| Cloud Computing   | Google Cloud Platform, Amazon Web Services           |\n"
   ]
  },
  {
   "cell_type": "markdown",
   "id": "86b3cc54",
   "metadata": {},
   "source": [
    "5+6"
   ]
  },
  {
   "cell_type": "code",
   "execution_count": 1,
   "id": "21533251",
   "metadata": {},
   "outputs": [
    {
     "data": {
      "text/plain": [
       "11"
      ]
     },
     "execution_count": 1,
     "metadata": {},
     "output_type": "execute_result"
    }
   ],
   "source": [
    "5+6"
   ]
  },
  {
   "cell_type": "code",
   "execution_count": 2,
   "id": "da9bbc76",
   "metadata": {},
   "outputs": [
    {
     "data": {
      "text/plain": [
       "30"
      ]
     },
     "execution_count": 2,
     "metadata": {},
     "output_type": "execute_result"
    }
   ],
   "source": [
    "5*6"
   ]
  },
  {
   "cell_type": "code",
   "execution_count": 3,
   "id": "d54b1348",
   "metadata": {},
   "outputs": [
    {
     "name": "stdout",
     "output_type": "stream",
     "text": [
      "120 minutes is equal to 2.0 hours.\n"
     ]
    }
   ],
   "source": [
    "# Function to convert minutes to hours\n",
    "def minutes_to_hours(minutes):\n",
    "    hours = minutes / 60\n",
    "    return hours\n",
    "\n",
    "# Test the function\n",
    "minutes = 120\n",
    "hours = minutes_to_hours(minutes)\n",
    "print(f\"{minutes} minutes is equal to {hours} hours.\")\n"
   ]
  },
  {
   "cell_type": "markdown",
   "id": "9eca5e52",
   "metadata": {},
   "source": [
    "This is assigment notebook"
   ]
  },
  {
   "cell_type": "markdown",
   "id": "17c4773b",
   "metadata": {},
   "source": [
    "## Viral"
   ]
  },
  {
   "cell_type": "code",
   "execution_count": null,
   "id": "e92d6e9c",
   "metadata": {},
   "outputs": [],
   "source": []
  }
 ],
 "metadata": {
  "kernelspec": {
   "display_name": "Python 3 (ipykernel)",
   "language": "python",
   "name": "python3"
  },
  "language_info": {
   "codemirror_mode": {
    "name": "ipython",
    "version": 3
   },
   "file_extension": ".py",
   "mimetype": "text/x-python",
   "name": "python",
   "nbconvert_exporter": "python",
   "pygments_lexer": "ipython3",
   "version": "3.11.5"
  }
 },
 "nbformat": 4,
 "nbformat_minor": 5
}
